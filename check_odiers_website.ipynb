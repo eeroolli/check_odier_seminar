{
 "cells": [
  {
   "attachments": {},
   "cell_type": "markdown",
   "metadata": {},
   "source": [
    "# Check if Daniel Odier has announced any new Seminars\n",
    "If there are new seminars, make sure that I know about it by sending me an email using reminder@posturepower.de"
   ]
  },
  {
   "cell_type": "code",
   "execution_count": null,
   "metadata": {},
   "outputs": [],
   "source": [
    "# Importing libraries\n",
    "import csv\n",
    "import re\n",
    "import requests\n",
    "# %pip install beautifulsoup4 \n",
    "from bs4 import BeautifulSoup\n",
    "import smtplib\n",
    "from configparser import ConfigParser, ExtendedInterpolation\n"
   ]
  },
  {
   "cell_type": "code",
   "execution_count": null,
   "metadata": {},
   "outputs": [],
   "source": [
    "\n",
    "config = ConfigParser(interpolation=ExtendedInterpolation())\n",
    "config.read('email.ini')\n"
   ]
  },
  {
   "attachments": {},
   "cell_type": "markdown",
   "metadata": {},
   "source": [
    "### parameters"
   ]
  },
  {
   "cell_type": "code",
   "execution_count": null,
   "metadata": {},
   "outputs": [],
   "source": [
    "\n",
    "# Define the URL and other parameters\n",
    "url = \"https://danielodier.com/en/seminars-list\"\n",
    "\n",
    "# Set the sender and receiver email addresses\n",
    "sender_email = \"reminder@posturepower.de\"\n",
    "receiver_emails = [\"eero.olli@gmail.com\", \"info@posturepower.de\"]\n",
    "\n",
    "password = config['EMAIL']['password']\n",
    "smtp_server=config['EMAIL']['smtp_server']\n",
    "smtp_port=465\n",
    "sender_email=config['EMAIL']['username']\n",
    "\n"
   ]
  },
  {
   "attachments": {},
   "cell_type": "markdown",
   "metadata": {},
   "source": [
    "### Get webpage"
   ]
  },
  {
   "cell_type": "code",
   "execution_count": null,
   "metadata": {},
   "outputs": [],
   "source": [
    "# using requests\n",
    "try:\n",
    "    # resp = request.urlopen(url)\n",
    "    resp = requests.get(url)\n",
    "except Exception as ex:\n",
    "    print(ex)\n",
    "else:\n",
    "    body = BeautifulSoup(resp.content, \"html.parser\")\n",
    "finally:\n",
    "    if resp is not None:\n",
    "        resp.close()   \n",
    "        print(\"Content of webpage is downloaded.\")\n"
   ]
  },
  {
   "cell_type": "code",
   "execution_count": null,
   "metadata": {},
   "outputs": [],
   "source": [
    "\n",
    "\n",
    "# body\n"
   ]
  },
  {
   "cell_type": "code",
   "execution_count": null,
   "metadata": {},
   "outputs": [],
   "source": [
    "\n",
    "events = body.find_all(\"a\", class_=\"btn btn-prenota\")\n",
    "# events"
   ]
  },
  {
   "cell_type": "code",
   "execution_count": null,
   "metadata": {},
   "outputs": [],
   "source": [
    "# import re\n",
    "# var = '<a class=\"btn btn-prenota\" href=\"/en/Seminar/58/touch-yoga-seminar-(residential)-gut-helmeringen-(ulm)\" type=\"button\">Discover</a>]'\n",
    "# num = re.sub(\"(.*)([0-9]*)(.*)\" , \"\\g<2>\", var )\n"
   ]
  },
  {
   "attachments": {},
   "cell_type": "markdown",
   "metadata": {},
   "source": [
    "### read the saved info from last run"
   ]
  },
  {
   "cell_type": "code",
   "execution_count": null,
   "metadata": {},
   "outputs": [],
   "source": [
    "\n",
    "with open('odier_seminars.csv', mode='r') as file:\n",
    "    reader = csv.DictReader(file)\n",
    "    saved_seminars = [row for row in reader]\n",
    "\n",
    "# Extract the highest number from the saved seminars\n",
    "saved_seminars_numbers = [int(seminar['number']) for seminar in saved_seminars]\n",
    "max_saved_number = max(saved_seminars_numbers)\n"
   ]
  },
  {
   "attachments": {},
   "cell_type": "markdown",
   "metadata": {},
   "source": [
    "### Events online\n",
    "create a list of events now online\n",
    "compare with the saved events\n",
    "if new save a new csv and send an email."
   ]
  },
  {
   "cell_type": "code",
   "execution_count": null,
   "metadata": {},
   "outputs": [],
   "source": [
    "\n",
    "\n",
    "# Create a list of dictionaries to store the online events\n",
    "events_online = []\n",
    "\n",
    "for event in events:\n",
    "    event_str = str(event)\n",
    "    match = re.search(r'/Seminar/(\\d+)/(.*)(\" type.*)', event_str)\n",
    "    if match:\n",
    "        number = int(match.group(1))\n",
    "        name = str(match.group(2))\n",
    "        events_online.append({'number': number, 'name': name})\n",
    "\n",
    "# Extract the highest number from the online events\n",
    "online_seminars_numbers = [event['number'] for event in events_online]\n",
    "max_online_number = max(online_seminars_numbers)\n",
    "\n",
    "# Compare the highest numbers and print the result\n",
    "if max_saved_number >= max_online_number:\n",
    "    print(\"No new seminars\")\n",
    "\n",
    "# New seminar: write csv and send email\n",
    "else:\n",
    "    new_seminar = next(event for event in events_online if event['number'] == max_online_number)\n",
    "    print(f\"There is a new seminar: {new_seminar['name']}\")\n",
    "# Send an email to notify about the new seminar\n",
    "    message = f\"\"\"\\\n",
    "Subject: New Seminar Available\n",
    "\n",
    "There is a new seminar available: {new_seminar['name']}\n",
    "You should check: {url}\n",
    "\n",
    "\n",
    "This email is sent with the script check_odiers_website\n",
    "Best,\n",
    "Eero\n",
    "\"\"\"\n",
    "\n",
    "    with smtplib.SMTP_SSL(smtp_server, smtp_port) as server:\n",
    "        server.login(sender_email, password)\n",
    "        for receiver_email in receiver_emails:\n",
    "            server.sendmail(sender_email, receiver_email, message)\n",
    "\n",
    "    # Replace the saved csv file with the updated online events\n",
    "    with open('odier_seminars.csv', mode='w') as file:\n",
    "        fieldnames = ['number', 'name']\n",
    "        writer = csv.DictWriter(file, fieldnames=fieldnames)\n",
    "        writer.writeheader()\n",
    "        for event in events_online:\n",
    "            writer.writerow(event)"
   ]
  },
  {
   "cell_type": "code",
   "execution_count": null,
   "metadata": {},
   "outputs": [],
   "source": [
    "message = f\"\"\"\\\n",
    "Subject: New Seminar Available\n",
    "\n",
    "There is a new seminar available: {new_seminar['name']}\"\"\"\n",
    "\n",
    "with smtplib.SMTP_SSL(smtp_server, smtp_port) as server:\n",
    "        server.login(sender_email, password)\n",
    "        for receiver_email in receiver_emails:\n",
    "            server.sendmail(sender_email, receiver_email, message)"
   ]
  },
  {
   "attachments": {},
   "cell_type": "markdown",
   "metadata": {},
   "source": [
    "collect more info = requires reading a different class to get these lines included. "
   ]
  },
  {
   "cell_type": "code",
   "execution_count": null,
   "metadata": {},
   "outputs": [],
   "source": [
    "    # event_list.append({\"title\": title, \n",
    "    #                \"date\" : date, \n",
    "    #                \"location\" : location,\n",
    "    #                \"name\" : name,\n",
    "    #                \"link\" : link})\n",
    "    \n",
    "    \n",
    "    # event_list\n",
    "\n",
    "# find and save the last event = /Seminar/max(nr)\n"
   ]
  },
  {
   "cell_type": "code",
   "execution_count": null,
   "metadata": {},
   "outputs": [],
   "source": [
    "# event_list = []\n",
    "\n",
    "# for event in events:\n",
    "#     title = event.select(\"fs-5 fw-lighter text-white mt-5 mb-2\")\n",
    "#     date = event.select(\"fs-6 lh-sm col-red\")\n",
    "#     location = event.select(\"fw-bold\")\n",
    "#     name = event.select(\"fs-6 fw-lighter lh-sm col-blu px-5\")\n",
    "#     link = event.select(\"btn btn-prenota\")\n",
    "    \n",
    "#     event_list.append({\"title\": title, \n",
    "#                    \"date\" : date, \n",
    "#                    \"location\" : location,\n",
    "#                    \"name\" : name,\n",
    "#                    \"link\" : link})\n",
    "    \n",
    "    \n",
    "#     event_list"
   ]
  }
 ],
 "metadata": {
  "kernelspec": {
   "display_name": "ds",
   "language": "python",
   "name": "python3"
  },
  "language_info": {
   "codemirror_mode": {
    "name": "ipython",
    "version": 3
   },
   "file_extension": ".py",
   "mimetype": "text/x-python",
   "name": "python",
   "nbconvert_exporter": "python",
   "pygments_lexer": "ipython3",
   "version": "3.9.7"
  },
  "orig_nbformat": 4
 },
 "nbformat": 4,
 "nbformat_minor": 2
}
